{
 "cells": [
  {
   "cell_type": "code",
   "execution_count": 2,
   "metadata": {},
   "outputs": [],
   "source": [
    "import os\n",
    "import csv\n",
    "import glob\n",
    "import shutil\n",
    "import imghdr"
   ]
  },
  {
   "cell_type": "code",
   "execution_count": 3,
   "metadata": {},
   "outputs": [],
   "source": [
    "# New Find Python File\n",
    "\n",
    "def FindPythonFiles(filepath):\n",
    "    \n",
    "    spreadsheet_info = []                                           # Old path, first object number, second object number\n",
    "    old_doc_nums = []                                               # Old image names (path and file name)\n",
    "    object_nums = []                                                # New object numbers for each photo\n",
    "    rename_docs = []                                                # Photos that need to be renamed\n",
    "    old_nums = []                                                   # Old file name\n",
    "    old_doc_nums_path = []                                          # Second half of path (portion after folder)\n",
    "    file_type = []                                                  # Type of file\n",
    "    doc_nums_dict = {}\n",
    "\n",
    "\n",
    "    if filepath.endswith ('xlsx'):                                  # If is excel file\n",
    "        excel_file = xlrd.open_workbook(filepath)\n",
    "        sheet = excel_file.sheet_by_index(0)\n",
    "        sheet.cell_value(0, 0)\n",
    "        for i in range(sheet.nrows):\n",
    "            spreadsheet_info.append(sheet.row_values(i))            # Makes list of each row in spreadsheet\n",
    "\n",
    "    if filepath.endswith ('csv'):                                   # If is csv file\n",
    "        with open(filepath) as csv_file:\n",
    "            next(csv_file)\n",
    "            csv_reader = csv.reader(csv_file, delimiter=',')\n",
    "            for line in csv_reader:\n",
    "                spreadsheet_info.append(line)                       # Makes list of each row in spreadsheet\n",
    "\n",
    "    for i in spreadsheet_info:\n",
    "        if i[1] != '':                                              # If image has corresponding object\n",
    "            old_doc_nums.append(i[0])\n",
    "            object_nums.append(i[1])\n",
    "            old_nums.append((i[0].rsplit('\\\\', 1))[1])\n",
    "            old_doc_nums_path.append('\\\\'.join(i[0].split('\\\\', 3)[3:]))\n",
    "            file_type.append((i[0].rsplit('.', 1))[1])\n",
    "        if i[2] != '':\n",
    "            old_doc_nums.append(i[0])\n",
    "            object_nums.append(i[2])\n",
    "            old_nums.append((i[0].rsplit('\\\\', 1))[1])\n",
    "            old_doc_nums_path.append('\\\\'.join(i[0].split('\\\\', 3)[3:]))\n",
    "            file_type.append((i[0].rsplit('.', 1))[1])\n",
    "    for a in range (len(object_nums)):\n",
    "        if object_nums[a] not in doc_nums_dict:\n",
    "            doc_nums_dict[object_nums[a]] = [old_doc_nums[a]]        # Dictionary of object number : original photo number\n",
    "        else:\n",
    "            doc_nums_dict[object_nums[a]].append(old_doc_nums[a])    # If object already in dictionary, adds to tuple\n",
    "\n",
    "    folder = '\\\\'.join(filepath.split('\\\\', 3)[:3]) + '\\\\'           # One level above file/path column for spreadsheet\n",
    "    #for root, dirs, files in os.walk(folder):                       # Check all the files and subfiles in the root folder\n",
    "    #    for i in files:\n",
    "    #        fullName = (os.path.join(root, i))\n",
    "    #        if fullName in photo_nums_dict.values():                # See if each photo path matches an object\n",
    "    #            rename_photos.append(fullName)                      # If photo matches object, run photo through renamer\n",
    "    #            rename_photos.sort()\n",
    "\n",
    "    return (doc_nums_dict, object_nums, folder, old_nums, old_doc_nums_path, old_doc_nums, file_type)"
   ]
  },
  {
   "cell_type": "code",
   "execution_count": 4,
   "metadata": {},
   "outputs": [],
   "source": [
    "# Object ID List\n",
    "\n",
    "from collections import defaultdict\n",
    "from csv import DictReader\n",
    "\n",
    "def ObjectIdList (key):\n",
    "    filename = \"objectlist.csv\"\n",
    "    d = {}\n",
    "\n",
    "    with open(filename, 'r', encoding = 'utf-8') as data:\n",
    "        next(data)\n",
    "        reader = csv.reader(data)\n",
    "        \n",
    "        for line in reader:\n",
    "            d[line[1] ] = int(line[0])                     # Object ID : Object Number\n",
    "\n",
    "        if key in d:\n",
    "            return(d[key])"
   ]
  },
  {
   "cell_type": "code",
   "execution_count": 5,
   "metadata": {},
   "outputs": [],
   "source": [
    "# New Renamer\n",
    "\n",
    "def remove(string): \n",
    "    return string.strip() \n",
    "\n",
    "def Renamer(filepath, dest_file):\n",
    "    doc_nums_dict, object_nums, folder, old_nums, old_doc_nums_path, old_doc_nums, file_type = FindPythonFiles(filepath)\n",
    "    filepath2 = filepath.rsplit('\\\\', 1)[0] + '\\\\'\n",
    "    dest_file1 = dest_file + \".csv\"\n",
    "    write_file = os.path.join(filepath2, dest_file1)   # Change to new name of file\n",
    "    filepath = filepath.strip()\n",
    "    sheet_lines = []\n",
    "    \n",
    "    for i in range(len(old_nums)):                     # For every photo...\n",
    "        line = ['']*38\n",
    "        line[1] = ObjectIdList(object_nums[i])         # Second row is Object ID\n",
    "        line[2] = object_nums[i]                       # Third row is Object Number\n",
    "        line[3] = old_doc_nums_path[i]                 # Fourth row is File Name (second half of path)\n",
    "        line[4] = folder                               # Fifth row is the path to the folder\n",
    "        line[22] = 'document'                          # Media type\n",
    "        line[23] = file_type[i]                        # Media format\n",
    "        line[34] = False                               # Public access\n",
    "        line[35] = '(not assigned)'\n",
    "        line[36] = '(not assigned)'\n",
    "        line[37] = False                               # Is primary display media record\n",
    "        \n",
    "        sheet_lines.append(line)\n",
    "\n",
    "    with open(write_file, \"w\", newline='') as csv_file:\n",
    "        writer = csv.writer(csv_file, delimiter=',')                  # Append to file, create if not exist\n",
    "        file_header = \"\"\n",
    "        header = ['ID', 'ObjectID', 'ObjectNumber', 'FileName', 'Path', 'PixelW', 'PixelH', 'IsColor', 'ColorDepthNumberOfBits', 'FileSize', 'MemorySize', 'FileDate', 'ThumbFileName', 'ThumbnailPath', 'RenditionNumber', 'RenditionDate', 'MediaDepartment', 'Photographer', 'Scanby', 'Technique', 'QuantityMade', 'CopyrightInfo', 'MediaType', 'MediaFormat', 'MediaView', 'Rank', 'ArchiveIDNumber', 'ArchCatNum', 'ArchVolName', 'ArchSubDir', 'ArchFilename', 'Description', 'PublicCaption', 'Remarks', 'PublicAccess', 'SemanticType', 'MediaStatus', 'IsPrimaryDisplayMediaRecord']\n",
    "        for i in header:  \n",
    "            file_header += i + \", \"\n",
    "        csv_file.write((file_header)+'\\n')                            # Appends stripped line to list\n",
    "        \n",
    "        writer.writerows(sheet_lines)"
   ]
  },
  {
   "cell_type": "code",
   "execution_count": 6,
   "metadata": {
    "scrolled": true
   },
   "outputs": [
    {
     "name": "stdout",
     "output_type": "stream",
     "text": [
      "Name of New Filetestg\n"
     ]
    }
   ],
   "source": [
    "filepath = r\"Y:\\TMS Media\\....csv\"     # Name of File (Columns = Image Path, Object Name, Object Name 2)\n",
    "\n",
    "dest_file = input(\"Name of New File\")\n",
    "Renamer(filepath, dest_file)"
   ]
  },
  {
   "cell_type": "code",
   "execution_count": null,
   "metadata": {},
   "outputs": [],
   "source": []
  }
 ],
 "metadata": {
  "kernelspec": {
   "display_name": "Python 3",
   "language": "python",
   "name": "python3"
  },
  "language_info": {
   "codemirror_mode": {
    "name": "ipython",
    "version": 3
   },
   "file_extension": ".py",
   "mimetype": "text/x-python",
   "name": "python",
   "nbconvert_exporter": "python",
   "pygments_lexer": "ipython3",
   "version": "3.7.9"
  }
 },
 "nbformat": 4,
 "nbformat_minor": 1
}
